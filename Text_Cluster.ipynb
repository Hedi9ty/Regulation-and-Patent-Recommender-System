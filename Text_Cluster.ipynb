{
 "cells": [
  {
   "cell_type": "code",
   "execution_count": 1,
   "metadata": {},
   "outputs": [
    {
     "name": "stderr",
     "output_type": "stream",
     "text": [
      "C:\\ProgramData\\Anaconda3\\envs\\textmining\\lib\\site-packages\\gensim\\utils.py:1197: UserWarning: detected Windows; aliasing chunkize to chunkize_serial\n",
      "  warnings.warn(\"detected Windows; aliasing chunkize to chunkize_serial\")\n"
     ]
    }
   ],
   "source": [
    "import pandas as pd\n",
    "import sys\n",
    "sys.path.append('D:/python/TextMining/FUNCTION')\n",
    "from jieba_split_beta import zh_split\n",
    "from text_mining_beta import text_mining"
   ]
  },
  {
   "cell_type": "markdown",
   "metadata": {},
   "source": [
    "# Sample data"
   ]
  },
  {
   "cell_type": "code",
   "execution_count": 2,
   "metadata": {},
   "outputs": [],
   "source": [
    "data = pd.DataFrame({'ID' : range(4), 'Content' : ['吃葡萄不吐葡萄皮', '不吃葡萄到吐葡萄皮', \n",
    "                                                  '扁擔想綁在板凳上，板凳不讓扁擔綁在板凳上',\n",
    "                                                   '扁擔偏要綁在板凳上，板凳偏不讓扁擔綁在板凳上']})"
   ]
  },
  {
   "cell_type": "markdown",
   "metadata": {},
   "source": [
    "# ZH split"
   ]
  },
  {
   "cell_type": "code",
   "execution_count": 3,
   "metadata": {},
   "outputs": [
    {
     "name": "stderr",
     "output_type": "stream",
     "text": [
      "Building prefix dict from D:\\python\\TextMining\\Dictionary\\dict.txt.big ...\n",
      "Loading model from cache C:\\Users\\szwang\\AppData\\Local\\Temp\\2\\jieba.u837dce464c01df0ad686a1dbf98c499f.cache\n",
      "Loading model cost 2.859 seconds.\n",
      "Prefix dict has been built succesfully.\n"
     ]
    },
    {
     "name": "stdout",
     "output_type": "stream",
     "text": [
      "add user dictionary from D:/python/TextMining/Dictionary/edu_dict.txt\n",
      "add user dictionary from D:/python/TextMining/Dictionary/company_dict.txt\n",
      "add user dictionary from D:/python/TextMining/Dictionary/geo_dict.txt\n",
      "add user dictionary from D:/python/TextMining/Dictionary/law_dict.txt\n",
      "add user dictionary from D:/python/TextMining/Dictionary/FCS_dict.txt\n",
      "add user dictionary from D:/python/TextMining/Others/Benz/car_dict.txt\n",
      "add user dictionary from D:/python/TextMining/Others/Taichung/taichung1.txt\n",
      "斷詞......\n"
     ]
    },
    {
     "name": "stderr",
     "output_type": "stream",
     "text": [
      "100%|████████████████████████████████████████████████████| 4/4 [00:00<?, ?it/s]\n"
     ]
    },
    {
     "name": "stdout",
     "output_type": "stream",
     "text": [
      "字詞數量 (未處理)：17\n"
     ]
    }
   ],
   "source": [
    "# 載入繁體版Jieba\n",
    "analyzer = zh_split('D:/python/TextMining/Dictionary/dict.txt.big')\n",
    "# 載入自定義字典\n",
    "analyzer.add_dictionary('D:/python/TextMining/Dictionary/edu_dict.txt')\n",
    "analyzer.add_dictionary('D:/python/TextMining/Dictionary/company_dict.txt')\n",
    "analyzer.add_dictionary('D:/python/TextMining/Dictionary/geo_dict.txt')\n",
    "analyzer.add_dictionary('D:/python/TextMining/Dictionary/law_dict.txt')\n",
    "analyzer.add_dictionary('D:/python/TextMining/Dictionary/FCS_dict.txt')\n",
    "analyzer.add_dictionary('D:/python/TextMining/Others/Benz/car_dict.txt')\n",
    "analyzer.add_dictionary('D:/python/TextMining/Others/Taichung/taichung1.txt')\n",
    "# 斷詞\n",
    "analyzer.split(data.Content)\n",
    "analyzer.get_dictionary()"
   ]
  },
  {
   "cell_type": "code",
   "execution_count": 4,
   "metadata": {},
   "outputs": [
    {
     "data": {
      "text/plain": [
       "[['吃', '葡萄', '不吐', '葡萄', '皮'],\n",
       " ['不吃', '葡萄', '到', '吐', '葡萄', '皮'],\n",
       " ['扁擔', '想', '綁', '在', '板凳', '上', '，', '板凳', '不讓', '扁擔', '綁', '在', '板凳', '上'],\n",
       " ['扁擔',\n",
       "  '偏要',\n",
       "  '綁',\n",
       "  '在',\n",
       "  '板凳',\n",
       "  '上',\n",
       "  '，',\n",
       "  '板凳',\n",
       "  '偏',\n",
       "  '不讓',\n",
       "  '扁擔',\n",
       "  '綁',\n",
       "  '在',\n",
       "  '板凳',\n",
       "  '上']]"
      ]
     },
     "execution_count": 4,
     "metadata": {},
     "output_type": "execute_result"
    }
   ],
   "source": [
    "# 斷詞結果\n",
    "analyzer.split_list"
   ]
  },
  {
   "cell_type": "code",
   "execution_count": 5,
   "metadata": {},
   "outputs": [
    {
     "name": "stderr",
     "output_type": "stream",
     "text": [
      "100%|████████████████████████████████████████████████████| 4/4 [00:00<?, ?it/s]\n"
     ]
    }
   ],
   "source": [
    "analyzer.word_filter(w_len=0, # 過濾單詞字數 <= N的單詞\n",
    "                     path_word='D:/python/TextMining/Dictionary/stop_words.txt' # 停止詞字典\n",
    "                    )"
   ]
  },
  {
   "cell_type": "code",
   "execution_count": 6,
   "metadata": {},
   "outputs": [
    {
     "data": {
      "text/plain": [
       "[['吃', '葡萄', '不吐', '葡萄', '皮'],\n",
       " ['不吃', '葡萄', '吐', '葡萄', '皮'],\n",
       " ['扁擔', '想', '綁', '板凳', '板凳', '不讓', '扁擔', '綁', '板凳'],\n",
       " ['扁擔', '偏要', '綁', '板凳', '板凳', '偏', '不讓', '扁擔', '綁', '板凳']]"
      ]
     },
     "execution_count": 6,
     "metadata": {},
     "output_type": "execute_result"
    }
   ],
   "source": [
    "# 停止詞過濾結果\n",
    "analyzer.split_list"
   ]
  },
  {
   "cell_type": "code",
   "execution_count": 7,
   "metadata": {},
   "outputs": [
    {
     "name": "stdout",
     "output_type": "stream",
     "text": [
      "Ngram......\n"
     ]
    },
    {
     "name": "stderr",
     "output_type": "stream",
     "text": [
      "100%|████████████████████████████████████████████████████| 4/4 [00:00<?, ?it/s]\n"
     ]
    },
    {
     "data": {
      "text/plain": [
       "[('綁板凳', 1.0, ('綁', '板凳')),\n",
       " ('葡萄皮', 0.5, ('葡萄', '皮')),\n",
       " ('板凳板凳', 0.5, ('板凳', '板凳')),\n",
       " ('不讓扁擔', 0.5, ('不讓', '扁擔')),\n",
       " ('扁擔綁', 0.5, ('扁擔', '綁')),\n",
       " ('吃葡萄', 0.3333333333333333, ('吃', '葡萄')),\n",
       " ('葡萄不吐', 0.3333333333333333, ('葡萄', '不吐')),\n",
       " ('不吐葡萄', 0.3333333333333333, ('不吐', '葡萄')),\n",
       " ('不吃葡萄', 0.3333333333333333, ('不吃', '葡萄')),\n",
       " ('葡萄吐', 0.3333333333333333, ('葡萄', '吐')),\n",
       " ('吐葡萄', 0.3333333333333333, ('吐', '葡萄')),\n",
       " ('扁擔想', 0.3333333333333333, ('扁擔', '想')),\n",
       " ('想綁', 0.3333333333333333, ('想', '綁')),\n",
       " ('扁擔偏要', 0.3333333333333333, ('扁擔', '偏要')),\n",
       " ('偏要綁', 0.3333333333333333, ('偏要', '綁')),\n",
       " ('板凳偏', 0.3333333333333333, ('板凳', '偏')),\n",
       " ('偏不讓', 0.3333333333333333, ('偏', '不讓')),\n",
       " ('板凳不讓', 0.25, ('板凳', '不讓'))]"
      ]
     },
     "execution_count": 7,
     "metadata": {},
     "output_type": "execute_result"
    }
   ],
   "source": [
    "#找出潛在關鍵字\n",
    "analyzer.find_keyword(n=2)\n",
    "#潛在關鍵字結果\n",
    "analyzer.add_word #會按機率跳出潛在的組合字詞，可以透過人工方式加入字典"
   ]
  },
  {
   "cell_type": "markdown",
   "metadata": {},
   "source": [
    "# Vectorize"
   ]
  },
  {
   "cell_type": "code",
   "execution_count": 8,
   "metadata": {},
   "outputs": [],
   "source": [
    "# 載入 text monong 分析器\n",
    "tm = text_mining(analyzer.split_list)"
   ]
  },
  {
   "cell_type": "code",
   "execution_count": 9,
   "metadata": {},
   "outputs": [
    {
     "name": "stdout",
     "output_type": "stream",
     "text": [
      "字詞數量 (未處理)：13\n"
     ]
    }
   ],
   "source": [
    "# get dictionary\n",
    "tm.get_dictionary()"
   ]
  },
  {
   "cell_type": "code",
   "execution_count": 10,
   "metadata": {},
   "outputs": [
    {
     "name": "stdout",
     "output_type": "stream",
     "text": [
      "TF_VECTOR :  [[(0, 1), (1, 1), (2, 1), (3, 2)], [(2, 1), (3, 2), (4, 1), (5, 1)], [(6, 1), (7, 1), (8, 2), (9, 3), (10, 2)], [(6, 1), (8, 2), (9, 3), (10, 2), (11, 1), (12, 1)]]\n",
      "TFIDF_VECTOR :  [[(0, 0.5547001962252291), (1, 0.5547001962252291), (2, 0.2773500981126146), (3, 0.5547001962252291)], [(2, 0.2773500981126146), (3, 0.5547001962252291), (4, 0.5547001962252291), (5, 0.5547001962252291)], [(6, 0.21320071635561041), (7, 0.42640143271122083), (8, 0.42640143271122083), (9, 0.6396021490668313), (10, 0.42640143271122083)], [(6, 0.19611613513818404), (8, 0.3922322702763681), (9, 0.5883484054145521), (10, 0.3922322702763681), (11, 0.3922322702763681), (12, 0.3922322702763681)]]\n"
     ]
    }
   ],
   "source": [
    "# 計算TF\n",
    "tm.CounterVector()\n",
    "print('TF_VECTOR : ', tm.TF_Vector)\n",
    "# 計算TFIDF\n",
    "tm.TfidfVector()\n",
    "print('TFIDF_VECTOR : ', tm.TFIDF_Vector)\n"
   ]
  },
  {
   "cell_type": "code",
   "execution_count": 11,
   "metadata": {},
   "outputs": [
    {
     "name": "stdout",
     "output_type": "stream",
     "text": [
      "建模參數測試-主題數:10 PASS:5 Iter:100\n",
      "最佳參數-主題數:10 PASS:5 Iter:100 Eval:0.30716490328027846\n",
      "建模參數測試-主題數:10 PASS:5 Iter:200\n",
      "最佳參數-主題數:10 PASS:5 Iter:100 Eval:0.30716490328027846\n",
      "建模參數測試-主題數:10 PASS:5 Iter:300\n",
      "最佳參數-主題數:10 PASS:5 Iter:100 Eval:0.30716490328027846\n",
      "建模參數測試-主題數:10 PASS:5 Iter:400\n",
      "最佳參數-主題數:10 PASS:5 Iter:100 Eval:0.30716490328027846\n",
      "建模參數測試-主題數:10 PASS:10 Iter:100\n",
      "最佳參數-主題數:10 PASS:5 Iter:100 Eval:0.30716490328027846\n",
      "建模參數測試-主題數:10 PASS:10 Iter:200\n",
      "最佳參數-主題數:10 PASS:5 Iter:100 Eval:0.30716490328027846\n",
      "建模參數測試-主題數:10 PASS:10 Iter:300\n",
      "最佳參數-主題數:10 PASS:5 Iter:100 Eval:0.30716490328027846\n",
      "建模參數測試-主題數:10 PASS:10 Iter:400\n",
      "最佳參數-主題數:10 PASS:5 Iter:100 Eval:0.30716490328027846\n",
      "建模參數測試-主題數:10 PASS:20 Iter:100\n",
      "最佳參數-主題數:10 PASS:5 Iter:100 Eval:0.30716490328027846\n",
      "建模參數測試-主題數:10 PASS:20 Iter:200\n",
      "最佳參數-主題數:10 PASS:5 Iter:100 Eval:0.30716490328027846\n",
      "建模參數測試-主題數:10 PASS:20 Iter:300\n",
      "最佳參數-主題數:10 PASS:5 Iter:100 Eval:0.30716490328027846\n",
      "建模參數測試-主題數:10 PASS:20 Iter:400\n",
      "最佳參數-主題數:10 PASS:5 Iter:100 Eval:0.30716490328027846\n"
     ]
    }
   ],
   "source": [
    "CLUSTER = tm.LDA(tf_vector = tm.TF_Vector,\n",
    "                          K_range = [10], #range(6,14,2), # 15,20\n",
    "                          PASS_range = [5,10,20], #range(5,20,5), [5]\n",
    "                          ITER_range = range(100,401,100), # [200]  \n",
    "                          alpha = \"auto\", eta = \"auto\", seed = 7571)\n",
    "# 最佳參數-主題數:10 PASS:5 Iter:200 Eval:0.44168113732176606"
   ]
  },
  {
   "cell_type": "code",
   "execution_count": 12,
   "metadata": {},
   "outputs": [],
   "source": [
    "topic_doc, topic_word = tm.LDA_output(CLUSTER, n_keyword = 10)"
   ]
  },
  {
   "cell_type": "code",
   "execution_count": 14,
   "metadata": {},
   "outputs": [
    {
     "data": {
      "text/html": [
       "<div>\n",
       "<style scoped>\n",
       "    .dataframe tbody tr th:only-of-type {\n",
       "        vertical-align: middle;\n",
       "    }\n",
       "\n",
       "    .dataframe tbody tr th {\n",
       "        vertical-align: top;\n",
       "    }\n",
       "\n",
       "    .dataframe thead th {\n",
       "        text-align: right;\n",
       "    }\n",
       "</style>\n",
       "<table border=\"1\" class=\"dataframe\">\n",
       "  <thead>\n",
       "    <tr style=\"text-align: right;\">\n",
       "      <th></th>\n",
       "      <th>分群類別</th>\n",
       "      <th>關鍵字1</th>\n",
       "      <th>關鍵字2</th>\n",
       "      <th>關鍵字3</th>\n",
       "      <th>關鍵字4</th>\n",
       "      <th>關鍵字5</th>\n",
       "      <th>關鍵字6</th>\n",
       "      <th>關鍵字7</th>\n",
       "      <th>關鍵字8</th>\n",
       "      <th>關鍵字9</th>\n",
       "      <th>關鍵字10</th>\n",
       "      <th>文本數量</th>\n",
       "    </tr>\n",
       "  </thead>\n",
       "  <tbody>\n",
       "    <tr>\n",
       "      <th>0</th>\n",
       "      <td>0</td>\n",
       "      <td>葡萄</td>\n",
       "      <td>皮</td>\n",
       "      <td>吐</td>\n",
       "      <td>不吃</td>\n",
       "      <td>板凳</td>\n",
       "      <td>綁</td>\n",
       "      <td>扁擔</td>\n",
       "      <td>不讓</td>\n",
       "      <td>吃</td>\n",
       "      <td>不吐</td>\n",
       "      <td>1</td>\n",
       "    </tr>\n",
       "    <tr>\n",
       "      <th>1</th>\n",
       "      <td>5</td>\n",
       "      <td>葡萄</td>\n",
       "      <td>皮</td>\n",
       "      <td>吃</td>\n",
       "      <td>不吐</td>\n",
       "      <td>板凳</td>\n",
       "      <td>綁</td>\n",
       "      <td>扁擔</td>\n",
       "      <td>不讓</td>\n",
       "      <td>吐</td>\n",
       "      <td>不吃</td>\n",
       "      <td>1</td>\n",
       "    </tr>\n",
       "    <tr>\n",
       "      <th>2</th>\n",
       "      <td>7</td>\n",
       "      <td>板凳</td>\n",
       "      <td>綁</td>\n",
       "      <td>扁擔</td>\n",
       "      <td>不讓</td>\n",
       "      <td>想</td>\n",
       "      <td>偏要</td>\n",
       "      <td>偏</td>\n",
       "      <td>葡萄</td>\n",
       "      <td>皮</td>\n",
       "      <td>吐</td>\n",
       "      <td>2</td>\n",
       "    </tr>\n",
       "  </tbody>\n",
       "</table>\n",
       "</div>"
      ],
      "text/plain": [
       "   分群類別 關鍵字1 關鍵字2 關鍵字3 關鍵字4 關鍵字5 關鍵字6 關鍵字7 關鍵字8 關鍵字9 關鍵字10  文本數量\n",
       "0     0   葡萄    皮    吐   不吃   板凳    綁   扁擔   不讓    吃    不吐     1\n",
       "1     5   葡萄    皮    吃   不吐   板凳    綁   扁擔   不讓    吐    不吃     1\n",
       "2     7   板凳    綁   扁擔   不讓    想   偏要    偏   葡萄    皮     吐     2"
      ]
     },
     "execution_count": 14,
     "metadata": {},
     "output_type": "execute_result"
    }
   ],
   "source": [
    "topic_word"
   ]
  },
  {
   "cell_type": "code",
   "execution_count": 15,
   "metadata": {},
   "outputs": [],
   "source": [
    "tm.LDA_TopicWord()"
   ]
  },
  {
   "cell_type": "code",
   "execution_count": 16,
   "metadata": {},
   "outputs": [
    {
     "name": "stdout",
     "output_type": "stream",
     "text": [
      "關鍵字個數： 100\n"
     ]
    },
    {
     "data": {
      "text/plain": [
       "[(0, '葡萄', 0.3287976),\n",
       " (0, '皮', 0.17480214),\n",
       " (0, '吐', 0.16987918),\n",
       " (0, '不吃', 0.1698791),\n",
       " (0, '板凳', 0.018108645),\n",
       " (0, '綁', 0.017885417),\n",
       " (0, '扁擔', 0.017883783),\n",
       " (0, '不讓', 0.017488178),\n",
       " (0, '吃', 0.017055452),\n",
       " (0, '不吐', 0.017055416)]"
      ]
     },
     "metadata": {},
     "output_type": "display_data"
    }
   ],
   "source": [
    "print('關鍵字個數：',len(tm.LDA_TopicWord_Vector))\n",
    "display(tm.LDA_TopicWord_Vector[0:10])"
   ]
  },
  {
   "cell_type": "code",
   "execution_count": 19,
   "metadata": {},
   "outputs": [
    {
     "data": {
      "text/html": [
       "<div>\n",
       "<style scoped>\n",
       "    .dataframe tbody tr th:only-of-type {\n",
       "        vertical-align: middle;\n",
       "    }\n",
       "\n",
       "    .dataframe tbody tr th {\n",
       "        vertical-align: top;\n",
       "    }\n",
       "\n",
       "    .dataframe thead th {\n",
       "        text-align: right;\n",
       "    }\n",
       "</style>\n",
       "<table border=\"1\" class=\"dataframe\">\n",
       "  <thead>\n",
       "    <tr style=\"text-align: right;\">\n",
       "      <th></th>\n",
       "      <th>分群類別</th>\n",
       "      <th>關鍵字</th>\n",
       "      <th>Value</th>\n",
       "    </tr>\n",
       "  </thead>\n",
       "  <tbody>\n",
       "    <tr>\n",
       "      <th>0</th>\n",
       "      <td>0</td>\n",
       "      <td>葡萄</td>\n",
       "      <td>0.328798</td>\n",
       "    </tr>\n",
       "    <tr>\n",
       "      <th>1</th>\n",
       "      <td>0</td>\n",
       "      <td>皮</td>\n",
       "      <td>0.174802</td>\n",
       "    </tr>\n",
       "    <tr>\n",
       "      <th>2</th>\n",
       "      <td>0</td>\n",
       "      <td>吐</td>\n",
       "      <td>0.169879</td>\n",
       "    </tr>\n",
       "    <tr>\n",
       "      <th>3</th>\n",
       "      <td>0</td>\n",
       "      <td>不吃</td>\n",
       "      <td>0.169879</td>\n",
       "    </tr>\n",
       "    <tr>\n",
       "      <th>4</th>\n",
       "      <td>0</td>\n",
       "      <td>板凳</td>\n",
       "      <td>0.018109</td>\n",
       "    </tr>\n",
       "  </tbody>\n",
       "</table>\n",
       "</div>"
      ],
      "text/plain": [
       "   分群類別 關鍵字     Value\n",
       "0     0  葡萄  0.328798\n",
       "1     0   皮  0.174802\n",
       "2     0   吐  0.169879\n",
       "3     0  不吃  0.169879\n",
       "4     0  板凳  0.018109"
      ]
     },
     "execution_count": 19,
     "metadata": {},
     "output_type": "execute_result"
    }
   ],
   "source": [
    "wordcloud_LDA = tm.Word_Cloud(word_vector = tm.LDA_TopicWord_Vector, n_key = 20)\n",
    "wordcloud_LDA.head()"
   ]
  },
  {
   "cell_type": "code",
   "execution_count": null,
   "metadata": {},
   "outputs": [],
   "source": []
  }
 ],
 "metadata": {
  "kernelspec": {
   "display_name": "textmining",
   "language": "python",
   "name": "textmining"
  },
  "language_info": {
   "codemirror_mode": {
    "name": "ipython",
    "version": 3
   },
   "file_extension": ".py",
   "mimetype": "text/x-python",
   "name": "python",
   "nbconvert_exporter": "python",
   "pygments_lexer": "ipython3",
   "version": "3.6.5"
  }
 },
 "nbformat": 4,
 "nbformat_minor": 2
}
